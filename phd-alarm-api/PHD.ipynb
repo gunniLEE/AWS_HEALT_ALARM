{
 "cells": [
  {
   "cell_type": "code",
   "execution_count": 1,
   "metadata": {},
   "outputs": [],
   "source": [
    "import boto3\n",
    "import datetime"
   ]
  },
  {
   "cell_type": "code",
   "execution_count": 2,
   "metadata": {},
   "outputs": [
    {
     "data": {
      "text/plain": [
       "'1.26.148'"
      ]
     },
     "execution_count": 2,
     "metadata": {},
     "output_type": "execute_result"
    }
   ],
   "source": [
    "boto3.__version__"
   ]
  },
  {
   "cell_type": "code",
   "execution_count": 4,
   "metadata": {},
   "outputs": [],
   "source": [
    "session = boto3.Session(profile_name=\"health-adena-admin\", region_name='us-east-1')"
   ]
  },
  {
   "cell_type": "code",
   "execution_count": 5,
   "metadata": {},
   "outputs": [],
   "source": [
    "a=boto3.client('health')"
   ]
  },
  {
   "cell_type": "code",
   "execution_count": null,
   "metadata": {},
   "outputs": [],
   "source": [
    "a."
   ]
  },
  {
   "cell_type": "code",
   "execution_count": 3,
   "metadata": {},
   "outputs": [
    {
     "ename": "NameError",
     "evalue": "name 'session' is not defined",
     "output_type": "error",
     "traceback": [
      "\u001b[0;31m---------------------------------------------------------------------------\u001b[0m",
      "\u001b[0;31mNameError\u001b[0m                                 Traceback (most recent call last)",
      "Cell \u001b[0;32mIn[3], line 1\u001b[0m\n\u001b[0;32m----> 1\u001b[0m client\u001b[39m=\u001b[39msession\u001b[39m.\u001b[39mclient(\u001b[39m'\u001b[39m\u001b[39mhealth\u001b[39m\u001b[39m'\u001b[39m)\n",
      "\u001b[0;31mNameError\u001b[0m: name 'session' is not defined"
     ]
    }
   ],
   "source": [
    "client=session.client('health')"
   ]
  },
  {
   "cell_type": "code",
   "execution_count": 64,
   "metadata": {},
   "outputs": [],
   "source": [
    "events_paginator=client.get_paginator('describe_events')"
   ]
  },
  {
   "cell_type": "code",
   "execution_count": 65,
   "metadata": {},
   "outputs": [],
   "source": [
    "events_pages = events_paginator.paginate(filter={\n",
    "    'startTimes': [\n",
    "        {\n",
    "            'from': datetime.datetime.now() - datetime.timedelta(days=7)\n",
    "        }\n",
    "    ],\n",
    "    'eventStatusCodes': ['open', 'upcoming']\n",
    "})"
   ]
  },
  {
   "cell_type": "code",
   "execution_count": 66,
   "metadata": {},
   "outputs": [],
   "source": [
    "number_of_matching_events = 0\n",
    "for events_page in events_pages:\n",
    "    for event in events_page['events']:\n",
    "        number_of_matching_events += 1"
   ]
  },
  {
   "cell_type": "code",
   "execution_count": 67,
   "metadata": {},
   "outputs": [
    {
     "data": {
      "text/plain": [
       "{'events': [{'arn': 'arn:aws:health:global::event/BILLING/AWS_BILLING_NOTIFICATION/AWS_BILLING_NOTIFICATION_16124fc6cee6872a6c7f78fdc08efdc8dc34d7f73d6e8d4c45835f58bdb8ce91',\n",
       "   'service': 'BILLING',\n",
       "   'eventTypeCode': 'AWS_BILLING_NOTIFICATION',\n",
       "   'eventTypeCategory': 'accountNotification',\n",
       "   'region': 'global',\n",
       "   'startTime': datetime.datetime(2023, 6, 23, 11, 10, tzinfo=tzlocal()),\n",
       "   'lastUpdatedTime': datetime.datetime(2023, 6, 23, 13, 42, 16, 147000, tzinfo=tzlocal()),\n",
       "   'statusCode': 'open',\n",
       "   'eventScopeCode': 'ACCOUNT_SPECIFIC'}],\n",
       " 'ResponseMetadata': {'RequestId': '63bfa26e-bab6-4801-a140-2f6e0f7c001a',\n",
       "  'HTTPStatusCode': 200,\n",
       "  'HTTPHeaders': {'x-amzn-requestid': '63bfa26e-bab6-4801-a140-2f6e0f7c001a',\n",
       "   'content-type': 'application/x-amz-json-1.1',\n",
       "   'content-length': '429',\n",
       "   'date': 'Mon, 26 Jun 2023 01:43:40 GMT'},\n",
       "  'RetryAttempts': 0}}"
      ]
     },
     "execution_count": 67,
     "metadata": {},
     "output_type": "execute_result"
    }
   ],
   "source": [
    "events_page"
   ]
  },
  {
   "cell_type": "code",
   "execution_count": 69,
   "metadata": {},
   "outputs": [
    {
     "name": "stdout",
     "output_type": "stream",
     "text": [
      "{'arn': 'arn:aws:health:global::event/BILLING/AWS_BILLING_NOTIFICATION/AWS_BILLING_NOTIFICATION_16124fc6cee6872a6c7f78fdc08efdc8dc34d7f73d6e8d4c45835f58bdb8ce91', 'service': 'BILLING', 'eventTypeCode': 'AWS_BILLING_NOTIFICATION', 'eventTypeCategory': 'accountNotification', 'region': 'global', 'startTime': datetime.datetime(2023, 6, 23, 11, 10, tzinfo=tzlocal()), 'lastUpdatedTime': datetime.datetime(2023, 6, 23, 13, 42, 16, 147000, tzinfo=tzlocal()), 'statusCode': 'open', 'eventScopeCode': 'ACCOUNT_SPECIFIC'}\n"
     ]
    }
   ],
   "source": [
    "print(event)\n",
    "# print(number_of_matching_events)"
   ]
  },
  {
   "cell_type": "code",
   "execution_count": 70,
   "metadata": {},
   "outputs": [
    {
     "name": "stdout",
     "output_type": "stream",
     "text": [
      "{'successfulSet': [{'event': {'arn': 'arn:aws:health:global::event/BILLING/AWS_BILLING_NOTIFICATION/AWS_BILLING_NOTIFICATION_16124fc6cee6872a6c7f78fdc08efdc8dc34d7f73d6e8d4c45835f58bdb8ce91', 'service': 'BILLING', 'eventTypeCode': 'AWS_BILLING_NOTIFICATION', 'eventTypeCategory': 'accountNotification', 'region': 'global', 'startTime': datetime.datetime(2023, 6, 23, 11, 10, tzinfo=tzlocal()), 'lastUpdatedTime': datetime.datetime(2023, 6, 23, 13, 42, 16, 147000, tzinfo=tzlocal()), 'statusCode': 'open', 'eventScopeCode': 'ACCOUNT_SPECIFIC'}, 'eventDescription': {'latestDescription': 'On August 1, 2023, the free tier for the Amazon Simple Email Service (SES) will change. We are adding more features to the SES free tier: it now includes more outbound email message sources, SES’ new Virtual Deliverability Manager, and a higher limit for receiving inbound messages. We are also lowering the free tier limit for outbound messages and reducing the duration of the SES free tier to 12 months. \\nThis may affect your bill starting in August 2023.  Since you are already using SES, you will be able to take advantage of the revised free tier for another 12 months (until August 2024). \\n\\nBased on your SES usage in May 2023, this change would have lowered your SES bill. See the \"Affected resources\" tab for the estimated amount in $ (USD).\\n\\nNote this is an estimate based on your usage, and actual billing impact may vary depending on your usage patterns each month and any discounts you may have. \\n\\nThe revised SES free tier offers you more flexibility. Previously, the SES free tier included up 1,000 inbound email messages per month and up to 62,000 outbound messages per month when sent from AWS compute services such as Amazon EC2. The revised free tier includes up to 3,000 messages each month. You can receive inbound messages, send outbound messages sent from anywhere (not just AWS compute services), or try Virtual Deliverability Manager, which gives you easy access to detailed metrics to explore and monitor your email delivery and engagement rates. For new SES customers, the revised free tier is available for the 12 months after you start using SES; for existing SES customers, the revised free tier is available for 12 months starting August 1, 2023.\\n\\nThe revised SES free tier goes live on August 1, 2023, and your account(s) will be enrolled automatically. As part of this change, you will see the label you see on your SES bill for the pricing unit for inbound messages change from “Message” to “Count” - this matches the same way we label outbound messages. We are not able to offer an option to remain on the previous SES free tier model. \\n\\nTo learn more about SES\\' deliverability tools through Virtual Deliverability Manager, please see the documentation [1]. For more details about the previous free tier, visit the pricing page [2].\\n\\nIf you have any questions or concerns, please reach out to AWS Support [3].\\n\\n[1] https://docs.aws.amazon.com/ses/latest/dg/vdm.html\\n[2] https://aws.amazon.com/ses/pricing/\\n[3] https://aws.amazon.com/support'}}], 'failedSet': [], 'ResponseMetadata': {'RequestId': '6f9bbec6-b7a9-406a-87eb-0c8a2a3a68b4', 'HTTPStatusCode': 200, 'HTTPHeaders': {'x-amzn-requestid': '6f9bbec6-b7a9-406a-87eb-0c8a2a3a68b4', 'content-type': 'application/x-amz-json-1.1', 'content-length': '3016', 'date': 'Mon, 26 Jun 2023 01:43:51 GMT'}, 'RetryAttempts': 0}}\n"
     ]
    }
   ],
   "source": [
    "event_details_response = client.describe_event_details(eventArns=[event['arn']])\n",
    "print(event_details_response)"
   ]
  },
  {
   "cell_type": "code",
   "execution_count": 71,
   "metadata": {},
   "outputs": [
    {
     "data": {
      "text/plain": [
       "{'successfulSet': [{'event': {'arn': 'arn:aws:health:global::event/BILLING/AWS_BILLING_NOTIFICATION/AWS_BILLING_NOTIFICATION_16124fc6cee6872a6c7f78fdc08efdc8dc34d7f73d6e8d4c45835f58bdb8ce91',\n",
       "    'service': 'BILLING',\n",
       "    'eventTypeCode': 'AWS_BILLING_NOTIFICATION',\n",
       "    'eventTypeCategory': 'accountNotification',\n",
       "    'region': 'global',\n",
       "    'startTime': datetime.datetime(2023, 6, 23, 11, 10, tzinfo=tzlocal()),\n",
       "    'lastUpdatedTime': datetime.datetime(2023, 6, 23, 13, 42, 16, 147000, tzinfo=tzlocal()),\n",
       "    'statusCode': 'open',\n",
       "    'eventScopeCode': 'ACCOUNT_SPECIFIC'},\n",
       "   'eventDescription': {'latestDescription': 'On August 1, 2023, the free tier for the Amazon Simple Email Service (SES) will change. We are adding more features to the SES free tier: it now includes more outbound email message sources, SES’ new Virtual Deliverability Manager, and a higher limit for receiving inbound messages. We are also lowering the free tier limit for outbound messages and reducing the duration of the SES free tier to 12 months. \\nThis may affect your bill starting in August 2023.  Since you are already using SES, you will be able to take advantage of the revised free tier for another 12 months (until August 2024). \\n\\nBased on your SES usage in May 2023, this change would have lowered your SES bill. See the \"Affected resources\" tab for the estimated amount in $ (USD).\\n\\nNote this is an estimate based on your usage, and actual billing impact may vary depending on your usage patterns each month and any discounts you may have. \\n\\nThe revised SES free tier offers you more flexibility. Previously, the SES free tier included up 1,000 inbound email messages per month and up to 62,000 outbound messages per month when sent from AWS compute services such as Amazon EC2. The revised free tier includes up to 3,000 messages each month. You can receive inbound messages, send outbound messages sent from anywhere (not just AWS compute services), or try Virtual Deliverability Manager, which gives you easy access to detailed metrics to explore and monitor your email delivery and engagement rates. For new SES customers, the revised free tier is available for the 12 months after you start using SES; for existing SES customers, the revised free tier is available for 12 months starting August 1, 2023.\\n\\nThe revised SES free tier goes live on August 1, 2023, and your account(s) will be enrolled automatically. As part of this change, you will see the label you see on your SES bill for the pricing unit for inbound messages change from “Message” to “Count” - this matches the same way we label outbound messages. We are not able to offer an option to remain on the previous SES free tier model. \\n\\nTo learn more about SES\\' deliverability tools through Virtual Deliverability Manager, please see the documentation [1]. For more details about the previous free tier, visit the pricing page [2].\\n\\nIf you have any questions or concerns, please reach out to AWS Support [3].\\n\\n[1] https://docs.aws.amazon.com/ses/latest/dg/vdm.html\\n[2] https://aws.amazon.com/ses/pricing/\\n[3] https://aws.amazon.com/support'}}],\n",
       " 'failedSet': [],\n",
       " 'ResponseMetadata': {'RequestId': '6f9bbec6-b7a9-406a-87eb-0c8a2a3a68b4',\n",
       "  'HTTPStatusCode': 200,\n",
       "  'HTTPHeaders': {'x-amzn-requestid': '6f9bbec6-b7a9-406a-87eb-0c8a2a3a68b4',\n",
       "   'content-type': 'application/x-amz-json-1.1',\n",
       "   'content-length': '3016',\n",
       "   'date': 'Mon, 26 Jun 2023 01:43:51 GMT'},\n",
       "  'RetryAttempts': 0}}"
      ]
     },
     "execution_count": 71,
     "metadata": {},
     "output_type": "execute_result"
    }
   ],
   "source": [
    "# 이벤트 디테일\n",
    "\n",
    "event_details_response"
   ]
  },
  {
   "cell_type": "code",
   "execution_count": 72,
   "metadata": {},
   "outputs": [],
   "source": [
    "################################################################################################"
   ]
  },
  {
   "cell_type": "code",
   "execution_count": 73,
   "metadata": {},
   "outputs": [],
   "source": [
    "affected = events_paginator.paginate(filter={\n",
    "    'startTimes': [\n",
    "        {\n",
    "            'from': datetime.datetime.now() - datetime.timedelta(days=7)\n",
    "        }\n",
    "    ],\n",
    "    'eventStatusCodes': ['open', 'upcoming']\n",
    "})"
   ]
  },
  {
   "cell_type": "code",
   "execution_count": 74,
   "metadata": {},
   "outputs": [],
   "source": [
    "for affect in affected:\n",
    "    for event in affect['events']:\n",
    "        number_of_matching_events += 1"
   ]
  },
  {
   "cell_type": "code",
   "execution_count": 75,
   "metadata": {},
   "outputs": [
    {
     "data": {
      "text/plain": [
       "{'arn': 'arn:aws:health:global::event/BILLING/AWS_BILLING_NOTIFICATION/AWS_BILLING_NOTIFICATION_16124fc6cee6872a6c7f78fdc08efdc8dc34d7f73d6e8d4c45835f58bdb8ce91',\n",
       " 'service': 'BILLING',\n",
       " 'eventTypeCode': 'AWS_BILLING_NOTIFICATION',\n",
       " 'eventTypeCategory': 'accountNotification',\n",
       " 'region': 'global',\n",
       " 'startTime': datetime.datetime(2023, 6, 23, 11, 10, tzinfo=tzlocal()),\n",
       " 'lastUpdatedTime': datetime.datetime(2023, 6, 23, 13, 42, 16, 147000, tzinfo=tzlocal()),\n",
       " 'statusCode': 'open',\n",
       " 'eventScopeCode': 'ACCOUNT_SPECIFIC'}"
      ]
     },
     "execution_count": 75,
     "metadata": {},
     "output_type": "execute_result"
    }
   ],
   "source": [
    "event"
   ]
  },
  {
   "cell_type": "code",
   "execution_count": 76,
   "metadata": {},
   "outputs": [
    {
     "data": {
      "text/plain": [
       "{'entities': [{'entityArn': 'arn:aws:health:global:791743891857:entity/g1EK6elLRiFKUcbYZXKttPxDnp94vTT5ov6GI9mZOPl8c=1g',\n",
       "   'eventArn': 'arn:aws:health:global::event/BILLING/AWS_BILLING_NOTIFICATION/AWS_BILLING_NOTIFICATION_16124fc6cee6872a6c7f78fdc08efdc8dc34d7f73d6e8d4c45835f58bdb8ce91',\n",
       "   'entityValue': '0.26',\n",
       "   'awsAccountId': '791743891857',\n",
       "   'lastUpdatedTime': datetime.datetime(2023, 6, 23, 12, 53, 44, 116000, tzinfo=tzlocal())}],\n",
       " 'ResponseMetadata': {'RequestId': '8429078f-db7e-47a6-856c-c408544819f0',\n",
       "  'HTTPStatusCode': 200,\n",
       "  'HTTPHeaders': {'x-amzn-requestid': '8429078f-db7e-47a6-856c-c408544819f0',\n",
       "   'content-type': 'application/x-amz-json-1.1',\n",
       "   'content-length': '398',\n",
       "   'date': 'Mon, 26 Jun 2023 01:43:58 GMT'},\n",
       "  'RetryAttempts': 0}}"
      ]
     },
     "execution_count": 76,
     "metadata": {},
     "output_type": "execute_result"
    }
   ],
   "source": [
    "## 영향 받는 서비스 정보\n",
    "\n",
    "client.describe_affected_entities(\n",
    "    filter={\n",
    "        'eventArns': [\n",
    "            event['arn']\n",
    "        ]\n",
    "    }\n",
    ")"
   ]
  },
  {
   "cell_type": "code",
   "execution_count": 77,
   "metadata": {},
   "outputs": [
    {
     "data": {
      "text/plain": [
       "'arn:aws:health:global::event/BILLING/AWS_BILLING_NOTIFICATION/AWS_BILLING_NOTIFICATION_16124fc6cee6872a6c7f78fdc08efdc8dc34d7f73d6e8d4c45835f58bdb8ce91'"
      ]
     },
     "execution_count": 77,
     "metadata": {},
     "output_type": "execute_result"
    }
   ],
   "source": [
    "event['arn']"
   ]
  },
  {
   "cell_type": "code",
   "execution_count": null,
   "metadata": {},
   "outputs": [],
   "source": [
    "def active_region():\n",
    "    qname = 'global.health.amazonaws.com'\n",
    "    try:\n",
    "        answers = dns.resolver.resolve(qname, 'CNAME')\n",
    "    except Exception as e:\n",
    "        raise RegionLookupError('Failed to resolve {}'.format(qname), e)\n",
    "    if len(answers) != 1:\n",
    "        raise RegionLookupError('Failed to get a single answer when resolving {}'.format(qname))\n",
    "    name = str(answers[0].target) # e.g. health.us-east-1.amazonaws.com.\n",
    "    region_name = name.split('.')[1] # Region name is the 1st in split('.') -> ['health', 'us-east-1', 'amazonaws', 'com', '']\n",
    "    return region_name"
   ]
  },
  {
   "cell_type": "code",
   "execution_count": 2,
   "metadata": {},
   "outputs": [],
   "source": [
    "qname = 'global.health.amazonaws.com'"
   ]
  },
  {
   "cell_type": "code",
   "execution_count": 3,
   "metadata": {},
   "outputs": [],
   "source": [
    "import dns.resolver"
   ]
  },
  {
   "cell_type": "code",
   "execution_count": 5,
   "metadata": {},
   "outputs": [],
   "source": [
    "answers = dns.resolver.resolve(qname, 'CNAME')"
   ]
  },
  {
   "cell_type": "code",
   "execution_count": 22,
   "metadata": {},
   "outputs": [
    {
     "data": {
      "text/plain": [
       "'us-east-1'"
      ]
     },
     "execution_count": 22,
     "metadata": {},
     "output_type": "execute_result"
    }
   ],
   "source": [
    "str(answers[0].target).split('.')[1]"
   ]
  },
  {
   "cell_type": "code",
   "execution_count": 28,
   "metadata": {},
   "outputs": [
    {
     "name": "stdout",
     "output_type": "stream",
     "text": [
      "assume-land-admin\n",
      "health-land-admin\n",
      "health-bubbletap-admin\n",
      "health-adena-admin\n"
     ]
    }
   ],
   "source": [
    "for profile in boto3.session.Session().available_profiles:\n",
    "    if \"admin\" in profile:\n",
    "        print(profile)\n",
    "    else:\n",
    "        pass"
   ]
  },
  {
   "cell_type": "code",
   "execution_count": 25,
   "metadata": {},
   "outputs": [
    {
     "data": {
      "text/plain": [
       "['default',\n",
       " 'assume-land-admin',\n",
       " 'health-land-admin',\n",
       " 'health-bubbletap-admin',\n",
       " 'health-adena-admin']"
      ]
     },
     "execution_count": 25,
     "metadata": {},
     "output_type": "execute_result"
    }
   ],
   "source": []
  },
  {
   "cell_type": "code",
   "execution_count": null,
   "metadata": {},
   "outputs": [],
   "source": []
  }
 ],
 "metadata": {
  "kernelspec": {
   "display_name": "Python 3",
   "language": "python",
   "name": "python3"
  },
  "language_info": {
   "codemirror_mode": {
    "name": "ipython",
    "version": 3
   },
   "file_extension": ".py",
   "mimetype": "text/x-python",
   "name": "python",
   "nbconvert_exporter": "python",
   "pygments_lexer": "ipython3",
   "version": "3.11.3"
  },
  "orig_nbformat": 4
 },
 "nbformat": 4,
 "nbformat_minor": 2
}
